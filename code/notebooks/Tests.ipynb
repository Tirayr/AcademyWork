{
 "cells": [
  {
   "cell_type": "code",
   "execution_count": 1,
   "metadata": {},
   "outputs": [],
   "source": [
    "import pandas as pd"
   ]
  },
  {
   "cell_type": "code",
   "execution_count": 2,
   "metadata": {},
   "outputs": [],
   "source": [
    "MyDataNews=pd.read_csv(\"/home/tirayr/pythonscripts/MyPjOne/data/daily/20200517/Final_FinNews_Analysed/AIRBUS_20170715_20200424.csv\"\n",
    "                   ,\"|\"\n",
    "                   ,engine='python',index_col=0\n",
    "                   ,parse_dates=True)"
   ]
  },
  {
   "cell_type": "code",
   "execution_count": 7,
   "metadata": {},
   "outputs": [
    {
     "data": {
      "text/plain": [
       "time_index\n",
       "2020-04-20 13:04:38    0.468297\n",
       "2020-04-17 15:44:57    0.266659\n",
       "2020-04-17 15:11:33   -0.846936\n",
       "2020-04-16 13:55:20   -0.927703\n",
       "2020-04-16 12:16:06   -0.928193\n",
       "2020-04-15 22:17:00   -0.954568\n",
       "2020-04-15 00:17:55    0.568935\n",
       "2020-04-14 13:56:52   -0.941387\n",
       "2020-04-14 23:48:54   -0.275315\n",
       "2020-04-14 17:08:47   -0.965315\n",
       "2020-04-14 12:52:33    0.418861\n",
       "2020-04-14 10:53:33    0.854647\n",
       "2020-04-10 16:27:28   -0.956515\n",
       "2020-04-10 15:47:41    0.463543\n",
       "2020-04-10 09:34:29   -0.952449\n",
       "2020-04-09 18:18:01   -0.737035\n",
       "2020-04-09 18:02:50    0.898225\n",
       "2020-04-08 19:12:50   -0.961713\n",
       "2020-04-08 21:39:22   -0.965453\n",
       "2020-04-08 18:23:30   -0.298936\n",
       "2020-04-08 14:18:41   -0.879858\n",
       "2020-04-08 12:43:27   -0.959817\n",
       "2020-04-08 09:23:30   -0.912000\n",
       "2020-04-07 15:09:34    0.585581\n",
       "2020-04-06 19:19:33   -0.811142\n",
       "2020-04-06 17:32:52    0.212378\n",
       "2020-04-06 13:19:29   -0.843968\n",
       "2020-04-06 11:49:37   -0.291030\n",
       "2020-04-06 05:56:08    0.229440\n",
       "2020-04-05 22:50:33   -0.752856\n",
       "                         ...   \n",
       "2017-08-25 03:22:30    0.827640\n",
       "2017-08-24 16:29:27   -0.942908\n",
       "2017-08-24 07:54:55    0.574364\n",
       "2017-08-21 10:40:57    0.823639\n",
       "2017-08-09 12:55:40    0.694131\n",
       "2017-08-04 18:05:48   -0.933670\n",
       "2017-08-01 12:14:04    0.029024\n",
       "2017-08-01 12:14:04    0.480303\n",
       "2017-07-31 10:41:38    0.419428\n",
       "2017-07-28 13:21:53    0.920795\n",
       "2017-07-27 08:58:15   -0.939183\n",
       "2017-07-27 05:49:55   -0.956115\n",
       "2017-07-27 05:11:29   -0.077734\n",
       "2017-07-27 15:05:13   -0.968400\n",
       "2017-07-26 17:52:07    0.903564\n",
       "2017-07-26 15:03:03   -0.864730\n",
       "2017-07-26 08:43:19    0.878752\n",
       "2017-07-23 12:04:48   -0.385195\n",
       "2017-07-23 12:04:48    0.174552\n",
       "2017-07-20 10:57:57    0.905273\n",
       "2017-07-13 19:55:14   -0.947032\n",
       "2017-07-13 10:48:30    0.858039\n",
       "2017-07-11 11:28:20    0.914994\n",
       "2017-07-07 12:55:52   -0.799943\n",
       "2017-07-06 19:46:16    0.061804\n",
       "2017-07-06 18:20:50   -0.963088\n",
       "2017-07-06 16:26:08   -0.936550\n",
       "2017-07-06 14:13:11   -0.756303\n",
       "2017-07-06 06:05:40    0.000374\n",
       "2017-07-06 01:28:02    0.893983\n",
       "Name: sentiment_score, Length: 1337, dtype: float64"
      ]
     },
     "execution_count": 7,
     "metadata": {},
     "output_type": "execute_result"
    }
   ],
   "source": [
    "pd.Series(MyDataNews['sentiment_score'])"
   ]
  },
  {
   "cell_type": "code",
   "execution_count": null,
   "metadata": {},
   "outputs": [],
   "source": [
    "# Transform data in first dataframe\n",
    "df1 = pd.DataFrame(data)\n",
    "\n",
    "# Save the data in another datframe\n",
    "df2 = pd.DataFrame(data)\n",
    "\n",
    "# Rename column names of second dataframe \n",
    "df2.rename(index=str, columns={'Reader_ID1': 'Reader_ID1_x', 'SITE_ID1': 'SITE_ID1_x', 'EVENT_TS1': 'EVENT_TS1_x'}, inplace=True)\n",
    "\n",
    "# Merge the dataframes into another dataframe based on PERSONID and Badge_ID\n",
    "df3 = pd.merge(df1, df2, how='outer', on=['PERSONID', 'Badge_ID'])\n",
    "\n",
    "# Use df.loc() to fetch the data you want\n",
    "df3.loc[(df3.Reader_ID1 < df3.Reader_ID1_x) & (df3.SITE_ID1 != df3.SITE_ID1_x) & (pd.to_datetime(df3['EVENT_TS1']) - pd.to_datetime(df3['EVENT_TS1_x'])<=datetime.timedelta(hours=event_time_diff))]"
   ]
  }
 ],
 "metadata": {
  "kernelspec": {
   "display_name": "Python 3",
   "language": "python",
   "name": "python3"
  },
  "language_info": {
   "codemirror_mode": {
    "name": "ipython",
    "version": 3
   },
   "file_extension": ".py",
   "mimetype": "text/x-python",
   "name": "python",
   "nbconvert_exporter": "python",
   "pygments_lexer": "ipython3",
   "version": "3.6.4"
  }
 },
 "nbformat": 4,
 "nbformat_minor": 2
}
